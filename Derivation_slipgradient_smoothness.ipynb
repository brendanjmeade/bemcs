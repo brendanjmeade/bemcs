{
 "cells": [
  {
   "attachments": {},
   "cell_type": "markdown",
   "metadata": {},
   "source": [
    "# How to describe smoothnes of a slip vector along fault elements?\n",
    "\n",
    "The question is motivated by needing to think about implementing continuity and smoothness of slip for non-planar faults. For a scalar value of slip on planar faults, this is trivial since we only need to enforce $\\begin{align}\n",
    "s(\\zeta_{n_3})\\vert_{(k)} = s(\\zeta_{n_1})\\vert_{(k+1)} \\\\\n",
    "\\frac{\\partial s}{\\partial \\zeta}(\\zeta_{n_3})\\vert_{(k)} = \\frac{\\partial s}{\\partial \\zeta}(\\zeta_{n_1})\\vert_{(k+1)}\n",
    "\\end{align}$ "
   ]
  }
 ],
 "metadata": {
  "language_info": {
   "name": "python"
  },
  "orig_nbformat": 4
 },
 "nbformat": 4,
 "nbformat_minor": 2
}
