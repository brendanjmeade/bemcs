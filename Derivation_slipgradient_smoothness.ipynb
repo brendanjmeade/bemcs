{
 "cells": [
  {
   "attachments": {},
   "cell_type": "markdown",
   "metadata": {},
   "source": [
    "# How to describe smoothnes of a slip vector along fault elements?\n",
    "\n",
    "## Planar faults\n",
    "The question is motivated by needing to think about implementing continuity and smoothness of slip for non-planar faults. For a scalar value of slip on planar faults, this is trivial since we only need to enforce the following equation \n",
    "$\\begin{align}\n",
    "s(\\zeta_{n_3})\\vert_{(k)} = s(\\zeta_{n_1})\\vert_{(k+1)} \\\\\n",
    "\\frac{\\partial s}{\\partial \\zeta}(\\zeta_{n_3})\\vert_{(k)} = \\frac{\\partial s}{\\partial \\zeta}(\\zeta_{n_1})\\vert_{(k+1)}\n",
    "\\end{align}$ \n",
    "Here $\\zeta$ is a variable describing distance along the fault element, $n_3\\vert_{(k)},n_1\\vert_{(k+1)}$ refers to the $3^{rd}$ node of the $k^{th}$ element and $1^{st}$ node of the $k+1^{th}$ element respectively. Even if slip is a vector, the above equations can be applied independently for each slip component.\n",
    "\n",
    "## Slip on an arbitrary oriented fault element\n",
    "Consider a fault element with two unit vectors $\\hat{d} = \\begin{bmatrix} d_x \\\\ d_z \\end{bmatrix},\\hat{n}= \\begin{bmatrix} n_x \\\\ n_z \\end{bmatrix}$ that describe the shear and normal directions respectively. The slip vector in terms of the global coordinates is\n",
    "$\\begin{equation}\\underline{s} = \\begin{bmatrix} s_x \\\\ s_z \\end{bmatrix}\\end{equation}$ \n",
    "In terms of slip quantities local to the fault element, $s_s,s_n$ are shear and tensile slip respectively. The slip vector is then,\n",
    "$\\begin{equation}\\underline{s} = \\begin{bmatrix} s_s d_x + s_n n_x \\\\ s_s d_z + s_n n_z \\end{bmatrix}\\end{equation}$\n",
    "Maintaining continuity of the slip vector for arbitrary intersections of fault elements simply requires us to ensure the above equation (in a global coordinate system) is satisfied at an overlapping node.\n",
    "\n",
    "### Slip gradient for a simple case\n",
    "Slip gradients are a bit more complicated. For clarity, let us start with an elementary case where the fault element is oriented along $\\hat{d}= \\begin{bmatrix} 1 \\\\ 0 \\end{bmatrix}$ and the $\\hat{n}= \\begin{bmatrix} 0 \\\\ -1 \\end{bmatrix}$. In such a case, the slip vector $\\underline{s} = \\begin{bmatrix} s_x \\\\ s_z \\end{bmatrix}$ where $s_x = s_s, s_z = s_n$ and $s_s,s_n$ are shear and tensile slip respectively. The gradient of this vector is,\n",
    "\n",
    "$\\begin{equation} \\nabla\\underline{s} = \n",
    "\\begin{bmatrix} \\frac{\\partial s_x}{\\partial x} & \\cancel{\\frac{\\partial s_x}{\\partial z}} \\\\ \\frac{\\partial s_z}{\\partial x} & \\cancel{\\frac{\\partial s_z}{\\partial z}}\\end{bmatrix} \n",
    "= \\begin{bmatrix}\\frac{\\partial s_s}{\\partial \\zeta} & 0 \\\\ \\frac{\\partial s_n}{\\partial \\zeta} & 0\\end{bmatrix} \\end{equation}$\n",
    "\n",
    "The above jacobian has only 2 non-zero entries, because for this geometry $\\frac{\\partial}{\\partial z} = 0$. \n",
    "\n",
    "### Slip gradient for arbitrary geometry\n",
    "We can now take this above calculated jacobian and rotate it by an appropriate angle to obtain the slip gradient for any arbitrary geometry. We first write the rotation matrix in terms of the two orthonormal unit vectors $\\hat{d},\\hat{n}$,\n",
    "$\\begin{equation} R = \\begin{bmatrix} d_x & d_z \\\\ n_x & n_z \\end{bmatrix}\\end{equation}$\n",
    "\n",
    "The rotated slip gradient is now,\n",
    "\n",
    "$\\begin{aligned} R^T (\\nabla\\underline{s}) R & = \\begin{bmatrix} d_x & n_x \\\\ d_z & n_z \\end{bmatrix}\\begin{bmatrix} \\frac{\\partial s_s}{\\partial \\zeta} & 0 \\\\ \\frac{\\partial s_n}{\\partial \\zeta} & 0\\end{bmatrix}\\begin{bmatrix} d_x & d_z \\\\ n_x & n_z \\end{bmatrix} \\\\\n",
    "& = \\begin{bmatrix} \\frac{\\partial s_s}{\\partial\\zeta}d_x^2 + \\frac{\\partial s_n}{\\partial\\zeta}d_x n_x & \n",
    "\\frac{\\partial s_s}{\\partial\\zeta}d_x d_z + \\frac{\\partial s_n}{\\partial\\zeta}n_x d_z \\\\\n",
    "\\frac{\\partial s_s}{\\partial\\zeta}d_x d_z + \\frac{\\partial s_n}{\\partial\\zeta}n_z d_x & \n",
    "\\frac{\\partial s_s}{\\partial\\zeta}d_z^2 + \\frac{\\partial s_n}{\\partial\\zeta}n_z d_z\n",
    "\\end{bmatrix}\\end{aligned}$\n",
    "\n",
    "The quantity that we actually care about to enforce smoothness of slip or continuity of the gradient of slip is a directional derivative of the slip vector along the fault element i.e., \n",
    "\n",
    "$\\begin{aligned} \\nabla_{\\zeta}\\underline{s} &= \\left[R^T (\\nabla\\underline{s}) R\\right] . \\begin{bmatrix} d_x \\\\ d_z \\end{bmatrix} \\\\\n",
    "&= \\begin{bmatrix} \\frac{\\partial s_s}{\\partial\\zeta}d_x(d_x^2 + d_z^2) + \\frac{\\partial s_n}{\\partial\\zeta}n_x(d_x^2 + d_z^2) \\\\ \\frac{\\partial s_s}{\\partial\\zeta}d_z(d_x^2 + d_z^2) + \\frac{\\partial s_n}{\\partial\\zeta}n_z(d_x^2 + d_z^2) \\end{bmatrix}\n",
    "\\end{aligned}$\n",
    "\n",
    "Considering $\\Vert\\hat{d}\\Vert = 1$, the directional derivative reduces to\n",
    "$\\begin{equation} \\nabla_{\\zeta}\\underline{s} = \\begin{bmatrix} \\frac{\\partial s_s}{\\partial\\zeta}d_x + \\frac{\\partial s_n}{\\partial\\zeta}n_x \\\\ \\frac{\\partial s_s}{\\partial\\zeta}d_z + \\frac{\\partial s_n}{\\partial\\zeta}n_z \\end{bmatrix} \\end{equation}$\n",
    "\n"
   ]
  }
 ],
 "metadata": {
  "language_info": {
   "name": "python"
  },
  "orig_nbformat": 4
 },
 "nbformat": 4,
 "nbformat_minor": 2
}
