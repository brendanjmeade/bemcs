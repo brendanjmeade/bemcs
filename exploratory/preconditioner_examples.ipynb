{
 "cells": [
  {
   "cell_type": "code",
   "execution_count": 1,
   "metadata": {},
   "outputs": [],
   "source": [
    "import numpy as np\n",
    "import pandas as pd  # Just for pretty printing of small matrices\n"
   ]
  },
  {
   "attachments": {},
   "cell_type": "markdown",
   "metadata": {},
   "source": [
    "# Initial matrix and inverse"
   ]
  },
  {
   "cell_type": "code",
   "execution_count": 2,
   "metadata": {},
   "outputs": [
    {
     "name": "stdout",
     "output_type": "stream",
     "text": [
      "mat = \n",
      "   0  1  2\n",
      "0  1  2  3\n",
      "1  1  4  9\n",
      "2  7  8  9\n",
      "Matrix condition number 99.12\n",
      "mat_inv = \n",
      "          0    1         2\n",
      "0 -3.000000  0.5  0.500000\n",
      "1  4.500000 -1.0 -0.500000\n",
      "2 -1.666667  0.5  0.166667\n"
     ]
    }
   ],
   "source": [
    "# The starter matrix and it's inverse\n",
    "mat = np.array([[1, 2, 3], [1, 4, 9], [7, 8, 9]])\n",
    "mat_inv = np.linalg.inv(mat)\n",
    "\n",
    "# Print key facts\n",
    "print(f\"mat = \\n{pd.DataFrame(mat)}\")\n",
    "print(f\"Matrix condition number {np.linalg.cond(mat):0.2f}\")\n",
    "print(f\"mat_inv = \\n{pd.DataFrame(mat_inv)}\")\n"
   ]
  },
  {
   "attachments": {},
   "cell_type": "markdown",
   "metadata": {},
   "source": [
    "# Row preconditioning"
   ]
  },
  {
   "cell_type": "code",
   "execution_count": 3,
   "metadata": {},
   "outputs": [
    {
     "name": "stdout",
     "output_type": "stream",
     "text": [
      "Row preconditioner: [[ 6 14 24]]\n",
      "Matrix rows preconditioned to 1\n",
      "Row preconditioned matrix condition number 45.06\n",
      "mat_precon_row_inv_norm = \n",
      "          0    1         2\n",
      "0 -3.000000  0.5  0.500000\n",
      "1  4.500000 -1.0 -0.500000\n",
      "2 -1.666667  0.5  0.166667\n",
      "Row precoditioned inverse matches direct inverse\n"
     ]
    }
   ],
   "source": [
    "# Do row preconditioning and invert\n",
    "precon_row = mat.sum(axis=1)[:, None]  # Array of preconditioner scalars\n",
    "mat_precon_row = mat / precon_row  # Row preconditioned matrix\n",
    "check_precon = mat_precon_row.sum(axis=1)\n",
    "mat_precon_row_inv = np.linalg.inv(\n",
    "    mat_precon_row\n",
    ")  # Inverse of row preconditioned matrix\n",
    "mat_precon_row_inv_norm = (\n",
    "    mat_precon_row_inv / precon_row.T\n",
    ")  # Normalize back to unpreconditioned values\n",
    "\n",
    "\n",
    "# Print results summary\n",
    "print(f\"Row preconditioner: {precon_row.T}\")\n",
    "if np.allclose(check_precon, 1):\n",
    "    print(\"Matrix rows preconditioned to 1\")\n",
    "else:\n",
    "    print(\"Matrix rows NOT preconditioned to 1\")\n",
    "print(\n",
    "    f\"Row preconditioned matrix condition number {np.linalg.cond(mat_precon_row):0.2f}\"\n",
    ")\n",
    "print(f\"mat_precon_row_inv_norm = \\n{pd.DataFrame(mat_precon_row_inv_norm)}\")\n",
    "if np.allclose(mat_inv, mat_precon_row_inv_norm):\n",
    "    print(\"Row precoditioned inverse matches direct inverse\")\n",
    "else:\n",
    "    print(\"Row precoditioned inverse DOES NOT matches direct inverse\")\n"
   ]
  },
  {
   "attachments": {},
   "cell_type": "markdown",
   "metadata": {},
   "source": [
    "# Column preconditioning"
   ]
  },
  {
   "cell_type": "code",
   "execution_count": 4,
   "metadata": {},
   "outputs": [
    {
     "name": "stdout",
     "output_type": "stream",
     "text": [
      "Column preconditioner: [[ 9 14 21]]\n",
      "Matrix columns preconditioned to 1\n",
      "Column preconditioned matrix condition number 92.35\n",
      "mat_precon_col_inv_norm = \n",
      "          0    1         2\n",
      "0 -3.000000  0.5  0.500000\n",
      "1  4.500000 -1.0 -0.500000\n",
      "2 -1.666667  0.5  0.166667\n",
      "Column precoditioned inverse matches direct inverse\n"
     ]
    }
   ],
   "source": [
    "# Do column preconditioning and invert\n",
    "precon_col = mat.sum(axis=0)[None, :]  # Array of preconditioner scalars\n",
    "mat_precon_col = mat / precon_col  # Column preconditioned matrix\n",
    "check_precon = mat_precon_col.sum(axis=0)\n",
    "mat_precon_col_inv = np.linalg.inv(\n",
    "    mat_precon_col\n",
    ")  # Inverse of column preconditioned matrix\n",
    "mat_precon_col_inv_norm = (\n",
    "    mat_precon_col_inv / precon_col.T\n",
    ")  # Normalize back to unpreconditioned values\n",
    "\n",
    "# Print results summary\n",
    "print(f\"Column preconditioner: {precon_col}\")\n",
    "if np.allclose(check_precon, 1):\n",
    "    print(\"Matrix columns preconditioned to 1\")\n",
    "else:\n",
    "    print(\"Matrix columns NOT preconditioned to 1\")\n",
    "print(\n",
    "    f\"Column preconditioned matrix condition number {np.linalg.cond(mat_precon_col):0.2f}\"\n",
    ")\n",
    "print(f\"mat_precon_col_inv_norm = \\n{pd.DataFrame(mat_precon_col_inv_norm)}\")\n",
    "if np.allclose(mat_inv, mat_precon_col_inv_norm):\n",
    "    print(\"Column precoditioned inverse matches direct inverse\")\n",
    "else:\n",
    "    print(\"Column precoditioned inverse DOES NOT matches direct inverse\")\n"
   ]
  },
  {
   "cell_type": "code",
   "execution_count": null,
   "metadata": {},
   "outputs": [],
   "source": []
  }
 ],
 "metadata": {
  "kernelspec": {
   "display_name": "base",
   "language": "python",
   "name": "python3"
  },
  "language_info": {
   "codemirror_mode": {
    "name": "ipython",
    "version": 3
   },
   "file_extension": ".py",
   "mimetype": "text/x-python",
   "name": "python",
   "nbconvert_exporter": "python",
   "pygments_lexer": "ipython3",
   "version": "3.9.15"
  },
  "orig_nbformat": 4
 },
 "nbformat": 4,
 "nbformat_minor": 2
}
