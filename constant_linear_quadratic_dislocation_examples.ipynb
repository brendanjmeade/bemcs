{
 "cells": [
  {
   "cell_type": "code",
   "execution_count": null,
   "metadata": {},
   "outputs": [],
   "source": [
    "%load_ext autoreload\n",
    "%autoreload 2\n",
    "%config InlineBackend.figure_format = \"retina\""
   ]
  },
  {
   "cell_type": "code",
   "execution_count": null,
   "metadata": {},
   "outputs": [],
   "source": [
    "import matplotlib.pyplot as plt\n",
    "import numpy as np\n",
    "from importlib import reload\n",
    "\n",
    "import bemcs\n"
   ]
  },
  {
   "attachments": {},
   "cell_type": "markdown",
   "metadata": {},
   "source": [
    "# Define geometry of single element model"
   ]
  },
  {
   "cell_type": "code",
   "execution_count": null,
   "metadata": {},
   "outputs": [],
   "source": [
    "# List of elements for forward model\n",
    "n_elements = 1\n",
    "mu = np.array([3e10])\n",
    "nu = np.array([0.25])\n",
    "elements = []\n",
    "element = {}\n",
    "L = 10000\n",
    "x1, y1, x2, y2 = bemcs.discretized_line(-L, 0, L, 0, n_elements)\n",
    "\n",
    "for i in range(0, x1.size):\n",
    "    element[\"x1\"] = x1[i]\n",
    "    element[\"y1\"] = y1[i]\n",
    "    element[\"x2\"] = x2[i]\n",
    "    element[\"y2\"] = y2[i]\n",
    "    elements.append(element.copy())\n",
    "elements = bemcs.standardize_elements(elements)\n"
   ]
  },
  {
   "attachments": {},
   "cell_type": "markdown",
   "metadata": {},
   "source": [
    "# Observation coordinates"
   ]
  },
  {
   "cell_type": "code",
   "execution_count": null,
   "metadata": {},
   "outputs": [],
   "source": [
    "n_pts = 100\n",
    "width = 20000\n",
    "x_obs = np.linspace(-width, width, n_pts)\n",
    "y_obs = np.linspace(-width, width, n_pts)\n",
    "x_obs, y_obs = np.meshgrid(x_obs, y_obs)\n",
    "x_obs = x_obs.flatten()\n",
    "y_obs = y_obs.flatten()\n"
   ]
  },
  {
   "attachments": {},
   "cell_type": "markdown",
   "metadata": {},
   "source": [
    "# Single constant slip element"
   ]
  },
  {
   "cell_type": "code",
   "execution_count": null,
   "metadata": {},
   "outputs": [],
   "source": [
    "strike_slip_constant = 1\n",
    "tensile_slip_constant = 0\n",
    "\n",
    "(\n",
    "    displacement_constant,\n",
    "    stress_constant,\n",
    ") = bemcs.displacements_stresses_constant_no_rotation(\n",
    "    x_obs,\n",
    "    y_obs,\n",
    "    elements[0][\"half_length\"],\n",
    "    mu,\n",
    "    nu,\n",
    "    strike_slip_constant,\n",
    "    tensile_slip_constant,\n",
    "    elements[0][\"x_center\"],\n",
    "    elements[0][\"y_center\"],\n",
    ")\n",
    "\n",
    "bemcs.plot_fields(\n",
    "    elements,\n",
    "    x_obs.reshape(n_pts, n_pts),\n",
    "    y_obs.reshape(n_pts, n_pts),\n",
    "    displacement_constant,\n",
    "    stress_constant,\n",
    "    \"constant element\",\n",
    ")\n"
   ]
  },
  {
   "attachments": {},
   "cell_type": "markdown",
   "metadata": {},
   "source": [
    "# Single quadratic slip element"
   ]
  },
  {
   "cell_type": "code",
   "execution_count": null,
   "metadata": {},
   "outputs": [],
   "source": [
    "strike_slip_quadratic = [0.0, 1.0, 0.0]\n",
    "tensile_slip_quadratic = [0.0, 0.0, 0.0]\n",
    "\n",
    "(\n",
    "    displacement_quadratic,\n",
    "    stress_quadratic,\n",
    ") = bemcs.displacements_stresses_quadratic_no_rotation(\n",
    "    x_obs,\n",
    "    y_obs,\n",
    "    elements[0][\"half_length\"],\n",
    "    mu,\n",
    "    nu,\n",
    "    strike_slip_quadratic,\n",
    "    tensile_slip_quadratic,\n",
    "    elements[0][\"x_center\"],\n",
    "    elements[0][\"y_center\"],\n",
    ")\n",
    "\n",
    "bemcs.plot_fields(\n",
    "    elements,\n",
    "    x_obs.reshape(n_pts, n_pts),\n",
    "    y_obs.reshape(n_pts, n_pts),\n",
    "    displacement_quadratic,\n",
    "    stress_quadratic,\n",
    "    \"quadratic element\",\n",
    ")\n"
   ]
  },
  {
   "attachments": {},
   "cell_type": "markdown",
   "metadata": {},
   "source": [
    "# Making quadratic elements have linear slip\n",
    "Quadratic slip elements actually have solutions composed of quadratic functions specified at three distinct locations on each element.  I'm not sure why I did this but it's pretty flexible this way.  The task is to relate the coefficients that modulate the shape of each of these three quadratic functions to create the physical slip profile that we want. Exerpting from the `Bem2d.jl` paper:\n",
    "\n",
    "An additional and necessary step is to relate the shape function coefficients $c_i$ to the  displacement discontinuity/fault slip $\\Delta u_i$ at each node. We can do this by solving for the \\remove{the} coefficients $c_{i}$ that multiply each shape function $\\phi_{i}$ to give the variation in slip. All we need to do is solve the linear system with slip sampled at the locations of the three element nodes, $u(x_{1}),u(x_{2}),u(x_{3})$,\n",
    "\n",
    "$\n",
    "\\begin{equation}\n",
    "    \\begin{bmatrix}\n",
    "        c_{1}\\\\\n",
    "        c_{2}\\\\\n",
    "        c_{3}\n",
    "    \\end{bmatrix}\n",
    "    =\n",
    "    \\begin{bmatrix}\n",
    "        \\phi_{1}(x_{1},a) & \\phi_{2}(x_{1},a) & \\phi_{3}(x_{1},a)\\\\\n",
    "        \\phi_{1}(x_{2},a) & \\phi_{2}(x_{2},a) & \\phi_{3}(x_{2},a)\\\\\n",
    "        \\phi_{1}(x_{3},a) & \\phi_{2}(x_{3},a) & \\phi_{3}(x_{3},a)\n",
    "    \\end{bmatrix}^{-1}\\begin{bmatrix}\n",
    "        \\Delta u(x_{1})\\\\\n",
    "        \\Delta u(x_{2})\\\\\n",
    "        \\Delta u(x_{3})\n",
    "    \\end{bmatrix}\n",
    "\\end{equation}\n",
    "$"
   ]
  },
  {
   "cell_type": "code",
   "execution_count": null,
   "metadata": {},
   "outputs": [],
   "source": [
    "linewidth = 0.5\n",
    "fontsize = 6\n",
    "n = 1000\n",
    "a = 1\n",
    "x = np.linspace(-a, a, n)\n",
    "\n",
    "# phi shape functions and coefficients\n",
    "phi1 = (x / a) * (9 * (x / a) / 8 - 3 / 4)\n",
    "phi2 = (1 - 3 * (x / a) / 2) * (1 + 3 * (x / a) / 2)\n",
    "phi3 = (x / a) * (9 * (x / a) / 8 + 3 / 4)\n",
    "xvals = np.array([-1.0, 0.0, 1.0])\n",
    "yvals = np.array([-1.0, 0.0, 1.0]) + 1.00  # linear slip\n",
    "\n",
    "coef = bemcs.phicoef(xvals, yvals, a)\n",
    "\n",
    "plt.close(\"all\")\n",
    "plt.figure(figsize=(5, 5))\n",
    "plt.plot(\n",
    "    x, coef[0] * phi1, \"--\", color=\"blue\", linewidth=linewidth, label=\"node 1 slip\"\n",
    ")\n",
    "plt.plot(\n",
    "    x, coef[1] * phi2, \"--\", color=\"blue\", linewidth=linewidth, label=\"node 2 slip\"\n",
    ")\n",
    "plt.plot(\n",
    "    x, coef[2] * phi3, \"--\", color=\"blue\", linewidth=linewidth, label=\"node 3 slip\"\n",
    ")\n",
    "plt.plot(\n",
    "    x,\n",
    "    coef[0] * phi1 + coef[1] * phi2 + coef[2] * phi3,\n",
    "    \"-r\",\n",
    "    linewidth=linewidth,\n",
    "    label=\"total slip\",\n",
    ")\n",
    "plt.legend()\n",
    "plt.xlabel(\"$x$ (m)\", fontsize=fontsize)\n",
    "plt.ylabel(\"$u$ (m)\", fontsize=fontsize)\n",
    "plt.gca().tick_params(labelsize=fontsize)\n",
    "plt.show()\n",
    "\n",
    "\n",
    "# quadratic_nodes_to_slip_figure()\n"
   ]
  },
  {
   "attachments": {},
   "cell_type": "markdown",
   "metadata": {},
   "source": [
    "# A single linear element as a reduced case of the quadratic element"
   ]
  },
  {
   "cell_type": "code",
   "execution_count": null,
   "metadata": {},
   "outputs": [],
   "source": [
    "# Element half-width (packaged in element dictionary)\n",
    "a = 1.0\n",
    "\n",
    "# Specify endpoint displacments\n",
    "node_coordinates = np.array([-1.0, 0.0, 1.0])\n",
    "end_displacement_1 = -1.0\n",
    "end_displacement_2 = 1.0\n",
    "\n",
    "quadratic_coefficients = bemcs.get_quadratic_coefficients_for_linear_slip(\n",
    "    a, node_coordinates, end_displacement_1, end_displacement_2\n",
    ")\n",
    "\n",
    "strike_slip_quadratic = np.copy(quadratic_coefficients)\n",
    "tensile_slip_quadratic = [0.0, 0.0, 0.0]\n",
    "\n",
    "(\n",
    "    displacement_quadratic,\n",
    "    stress_quadratic,\n",
    ") = bemcs.displacements_stresses_quadratic_no_rotation(\n",
    "    x_obs,\n",
    "    y_obs,\n",
    "    elements[0][\"half_length\"],\n",
    "    mu,\n",
    "    nu,\n",
    "    strike_slip_quadratic,\n",
    "    tensile_slip_quadratic,\n",
    "    elements[0][\"x_center\"],\n",
    "    elements[0][\"y_center\"],\n",
    ")\n",
    "\n",
    "bemcs.plot_fields(\n",
    "    elements,\n",
    "    x_obs.reshape(n_pts, n_pts),\n",
    "    y_obs.reshape(n_pts, n_pts),\n",
    "    displacement_quadratic,\n",
    "    stress_quadratic,\n",
    "    \"linear element\",\n",
    ")\n"
   ]
  }
 ],
 "metadata": {
  "kernelspec": {
   "display_name": "base",
   "language": "python",
   "name": "python3"
  },
  "language_info": {
   "codemirror_mode": {
    "name": "ipython",
    "version": 3
   },
   "file_extension": ".py",
   "mimetype": "text/x-python",
   "name": "python",
   "nbconvert_exporter": "python",
   "pygments_lexer": "ipython3",
   "version": "3.9.15"
  },
  "orig_nbformat": 4
 },
 "nbformat": 4,
 "nbformat_minor": 2
}
