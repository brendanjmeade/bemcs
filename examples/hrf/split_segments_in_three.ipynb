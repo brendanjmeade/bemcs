{
 "cells": [
  {
   "cell_type": "code",
   "execution_count": 5,
   "metadata": {},
   "outputs": [],
   "source": [
    "import numpy as np\n",
    "import pandas as pd\n",
    "import matplotlib.pyplot as plt"
   ]
  },
  {
   "cell_type": "code",
   "execution_count": 17,
   "metadata": {},
   "outputs": [
    {
     "name": "stdout",
     "output_type": "stream",
     "text": [
      "331\n",
      "993\n",
      "331\n",
      "993\n"
     ]
    }
   ],
   "source": [
    "def chop_segments_3(df):\n",
    "    df_chop_all = pd.DataFrame()\n",
    "    for i in range(len(df)):\n",
    "        n_chop_segs = 3\n",
    "        x_new = np.linspace(df.x1.values[i], df.x2.values[i], n_chop_segs + 1)\n",
    "        y_new = np.linspace(df.y1.values[i], df.y2.values[i], n_chop_segs + 1)\n",
    "        x1_new = x_new[0:-1]\n",
    "        y1_new = y_new[0:-1]\n",
    "        x2_new = x_new[1::]\n",
    "        y2_new = y_new[1::]\n",
    "\n",
    "        # Create dataframe from chopped coordinates\n",
    "        df_chop = pd.DataFrame(\n",
    "            {\n",
    "                \"x1\": x1_new,\n",
    "                \"y1\": y1_new,\n",
    "                \"x2\": x2_new,\n",
    "                \"y2\": y2_new,\n",
    "            }\n",
    "        )\n",
    "        # Copy over properties from initial segment\n",
    "        df_chop[\"collection\"] = df.collection[i]\n",
    "        df_chop[\"name\"] = np.arange(n_chop_segs)\n",
    "        df_chop[\"bc_type_x\"] = df.bc_type_x[i]\n",
    "        df_chop[\"bc_x\"] = df.bc_x[i]\n",
    "        df_chop[\"bc_type_y\"] = df.bc_type_y[i]\n",
    "        df_chop[\"bc_y\"] = df.bc_y[i]\n",
    "        df_chop_all = pd.concat([df_chop_all, df_chop], ignore_index=True)\n",
    "\n",
    "    return df_chop_all\n",
    "\n",
    "\n",
    "# Chop interseismic\n",
    "input_file_interseismic = \"mht_geometry_bcnew_5_km.csv\"\n",
    "output_file_interseismic = \"mht_geometry_bcnew_5_km_split_in_3.csv\"\n",
    "df_interseismic = pd.read_csv(input_file_interseismic)\n",
    "df_interseismic_chopped = chop_segments_3(df_interseismic)\n",
    "df_interseismic_chopped.to_csv(output_file_interseismic, index=False)\n",
    "print(f\"{len(df_interseismic)}\")\n",
    "print(f\"{len(df_interseismic_chopped)}\")\n",
    "\n",
    "# Chop coseismic\n",
    "input_file_coseismic = \"mht_geometry_gorkha_5_km.csv\"\n",
    "output_file_coseismic = \"mht_geometry_gorkha_5_km_split_in_3.csv\"\n",
    "df_coseismic = pd.read_csv(input_file_coseismic)\n",
    "df_coseismic_chopped = chop_segments_3(df_coseismic)\n",
    "df_coseismic_chopped.to_csv(output_file_coseismic, index=False)\n",
    "print(f\"{len(df_coseismic)}\")\n",
    "print(f\"{len(df_coseismic_chopped)}\")"
   ]
  },
  {
   "cell_type": "code",
   "execution_count": null,
   "metadata": {},
   "outputs": [],
   "source": []
  }
 ],
 "metadata": {
  "kernelspec": {
   "display_name": "bemcs",
   "language": "python",
   "name": "python3"
  },
  "language_info": {
   "codemirror_mode": {
    "name": "ipython",
    "version": 3
   },
   "file_extension": ".py",
   "mimetype": "text/x-python",
   "name": "python",
   "nbconvert_exporter": "python",
   "pygments_lexer": "ipython3",
   "version": "3.11.4"
  }
 },
 "nbformat": 4,
 "nbformat_minor": 2
}
