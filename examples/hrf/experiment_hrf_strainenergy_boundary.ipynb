{
 "cells": [
  {
   "cell_type": "code",
   "execution_count": 19,
   "metadata": {},
   "outputs": [],
   "source": [
    "import numpy as np\n",
    "import pandas as pd\n",
    "import matplotlib.pyplot as plt\n",
    "from importlib import reload\n",
    "\n",
    "import bemcs\n",
    "\n",
    "\n",
    "def construct_kernels_centralnode(\n",
    "    fileinput,\n",
    "    els,\n",
    "    kernels_s,\n",
    "    kernels_n,\n",
    "    traction_kernels_s,\n",
    "    traction_kernels_n,\n",
    "    matrix_slip,\n",
    "):\n",
    "    bctype_x = fileinput[\"bc_type_x\"].values\n",
    "    bctype_y = fileinput[\"bc_type_y\"].values\n",
    "    labels = fileinput[\"collection\"].values\n",
    "\n",
    "    n_els = len(els.x1)\n",
    "    Nunknowns = 6 * n_els\n",
    "\n",
    "    # Linear operator for central node BCs\n",
    "    kerneleval_x = np.zeros((n_els, Nunknowns))\n",
    "    kerneleval_y = np.zeros((n_els, Nunknowns))\n",
    "\n",
    "    # x,y-kernels\n",
    "    for i in np.unique(labels):\n",
    "        index = np.where(labels == i)[0]\n",
    "        for j in index:\n",
    "            if bctype_x[j] == \"u_global\":\n",
    "                for k in range(0, 3):\n",
    "                    kerneleval_x[j, k::6] = kernels_s[3][j, k::3]\n",
    "                    kerneleval_x[j, k + 3 :: 6] = kernels_n[3][j, k::3]\n",
    "            elif bctype_x[j] == \"t_local\":\n",
    "                for k in range(0, 3):\n",
    "                    kerneleval_x[j, k::6] = traction_kernels_s[0][j, k::3]\n",
    "                    kerneleval_x[j, k + 3 :: 6] = traction_kernels_n[0][j, k::3]\n",
    "            elif bctype_x[j] == \"s_local\":\n",
    "                kerneleval_x[j, :] = matrix_slip[2::6, :][j, :]\n",
    "            else:\n",
    "                raise ValueError(\"unrecognized boundary condition type\")\n",
    "\n",
    "            if bctype_y[j] == \"u_global\":\n",
    "                for k in range(0, 3):\n",
    "                    kerneleval_y[j, k::6] = kernels_s[4][j, k::3]\n",
    "                    kerneleval_y[j, k + 3 :: 6] = kernels_n[4][j, k::3]\n",
    "            elif bctype_y[j] == \"t_local\":\n",
    "                for k in range(0, 3):\n",
    "                    kerneleval_y[j, k::6] = traction_kernels_s[1][j, k::3]\n",
    "                    kerneleval_y[j, k + 3 :: 6] = traction_kernels_n[1][j, k::3]\n",
    "            elif bctype_y[j] == \"s_local\":\n",
    "                kerneleval_y[j, :] = matrix_slip[3::6, :][j, :]\n",
    "            else:\n",
    "                raise ValueError(\"unrecognized boundary condition type\")\n",
    "\n",
    "    return kerneleval_x, kerneleval_y\n",
    "\n",
    "\n",
    "def extract_quadratic_components(quadratic_coefs, n_els):\n",
    "    # extract (s,n) components and store them in 2 separate vectors\n",
    "    quadratic_coefs_s = np.zeros((3 * n_els, 1))\n",
    "    quadratic_coefs_n = np.zeros((3 * n_els, 1))\n",
    "    for i in range(n_els):\n",
    "        quadratic_coefs_s[3 * i : 3 * (i + 1)] = quadratic_coefs[6 * i : 6 * i + 3]\n",
    "        quadratic_coefs_n[3 * i : 3 * (i + 1)] = quadratic_coefs[\n",
    "            6 * i + 3 : 6 * (i + 1)\n",
    "        ]\n",
    "\n",
    "    return quadratic_coefs_s, quadratic_coefs_n\n",
    "\n",
    "\n",
    "class els_normals:\n",
    "    def __init__(self, els, n):\n",
    "        n_els = len(els.x1)\n",
    "        self.x = np.zeros(n_els * n)\n",
    "        self.y = np.zeros(n_els * n)\n",
    "        self.x_shears = np.zeros(n_els * n)\n",
    "        self.y_shears = np.zeros(n_els * n)\n",
    "        self.x_normals = np.zeros(n_els * n)\n",
    "        self.y_normals = np.zeros(n_els * n)\n",
    "\n",
    "        for i in range(n_els):\n",
    "            xvec = np.linspace(els.x1[i], els.x2[i], n + 1)\n",
    "            yvec = np.linspace(els.y1[i], els.y2[i], n + 1)\n",
    "            self.x[i * n : (i + 1) * n] = 0.5 * (xvec[1:] + xvec[0:-1])\n",
    "            self.y[i * n : (i + 1) * n] = 0.5 * (yvec[1:] + yvec[0:-1])\n",
    "            self.x_shears[i * n : (i + 1) * n] = els.x_shears[i]\n",
    "            self.y_shears[i * n : (i + 1) * n] = els.y_shears[i]\n",
    "            self.x_normals[i * n : (i + 1) * n] = els.x_normals[i]\n",
    "            self.y_normals[i * n : (i + 1) * n] = els.y_normals[i]"
   ]
  },
  {
   "cell_type": "code",
   "execution_count": 20,
   "metadata": {},
   "outputs": [
    {
     "name": "stdout",
     "output_type": "stream",
     "text": [
      "['left_topo' 'mbt' 'ramp_mft' 'right_edge' 'right_topo' 'topo']\n"
     ]
    },
    {
     "data": {
      "image/png": "[encoded data removed]",
      "text/plain": [
       "<Figure size 640x480 with 1 Axes>"
      ]
     },
     "metadata": {},
     "output_type": "display_data"
    }
   ],
   "source": [
    "# Elastic parameters\n",
    "mu = 1\n",
    "nu = 0.25\n",
    "\n",
    "# read fault geometry file\n",
    "fileinput = pd.read_csv(\"mht_geometry_locked_5_km.csv\")\n",
    "\n",
    "# print(fileinput.head())\n",
    "x1 = fileinput[\"x1\"].values\n",
    "x2 = fileinput[\"x2\"].values\n",
    "y1 = fileinput[\"y1\"].values\n",
    "y2 = fileinput[\"y2\"].values\n",
    "bc_x = fileinput[\"bc_x\"].values\n",
    "bc_y = fileinput[\"bc_y\"].values\n",
    "bctype_x = fileinput[\"bc_type_x\"].values\n",
    "bctype_y = fileinput[\"bc_type_y\"].values\n",
    "\n",
    "labels = fileinput[\"collection\"].values\n",
    "print(np.unique(labels))\n",
    "\n",
    "# create bemcs data structure\n",
    "els = bemcs.initialize_els()\n",
    "els.x1 = x1\n",
    "els.y1 = y1\n",
    "els.x2 = x2\n",
    "els.y2 = y2\n",
    "bemcs.standardize_els_geometry(els)\n",
    "n_els = len(els.x1)\n",
    "bemcs.plot_els_geometry(els)\n",
    "\n",
    "# create finely discretized observation points on els\n",
    "n_eval = 4\n",
    "els_obs = els_normals(els, n_eval)"
   ]
  },
  {
   "cell_type": "code",
   "execution_count": 21,
   "metadata": {},
   "outputs": [
    {
     "name": "stdout",
     "output_type": "stream",
     "text": [
      "Number of open nodes = 2\n",
      ": [array([393]), array([695])]\n",
      "Number of 2-overlap nodes = 324\n",
      ": [array([ 396, -395]), array([ 399, -398]), array([ 402, -401]), array([ 405, -404]), array([ 408, -407]), array([ 411, -410]), array([ 414, -413]), array([ 417, -416]), array([ 420, -419]), array([ 423, -422]), array([ 426, -425]), array([ 429, -428]), array([ 432, -431]), array([ 435, -434]), array([ 438, -437]), array([ 441, -440]), array([ 444, -443]), array([ 447, -446]), array([ 450, -449]), array([ 453, -452]), array([ 456, -455]), array([ 459, -458]), array([ 462, -461]), array([ 465, -464]), array([ 468, -467]), array([ 471, -470]), array([ 474, -473]), array([ 477, -476]), array([ 480, -479]), array([ 483, -482]), array([ 486, -485]), array([ 489, -488]), array([ 492, -491]), array([ 495, -494]), array([ 498, -497]), array([ 501, -500]), array([ 504, -503]), array([ 507, -506]), array([ 510, -509]), array([ 513, -512]), array([ 516, -515]), array([ 519, -518]), array([ 522, -521]), array([ 525, -524]), array([ 528, -527]), array([ 531, -530]), array([ 534, -533]), array([ 537, -536]), array([ 540, -539]), array([ 543, -542]), array([ 546, -545]), array([ 549, -548]), array([ 552, -551]), array([ 555, -554]), array([ 558, -557]), array([ 561, -560]), array([ 564, -563]), array([ 567, -566]), array([ 570, -569]), array([ 573, -572]), array([ 576, -575]), array([ 579, -578]), array([ 582, -581]), array([ 585, -584]), array([ 588, -587]), array([ 591, -590]), array([ 594, -593]), array([ 597, -596]), array([ 600, -599]), array([ 603, -602]), array([ 606, -605]), array([ 609, -608]), array([ 612, -611]), array([ 615, -614]), array([ 618, -617]), array([ 621, -620]), array([ 624, -623]), array([ 627, -626]), array([ 630, -629]), array([ 633, -632]), array([ 636, -635]), array([ 639, -638]), array([ 642, -641]), array([ 645, -644]), array([ 648, -647]), array([ 651, -650]), array([ 654, -653]), array([ 657, -656]), array([ 660, -659]), array([ 663, -662]), array([ 666, -665]), array([ 669, -668]), array([ 672, -671]), array([ 675, -674]), array([ 678, -677]), array([ 681, -680]), array([ 684, -683]), array([ 687, -686]), array([ 690, -689]), array([   0, -692]), array([ 3, -2]), array([ 6, -5]), array([ 252, -251]), array([ 12, -11]), array([ 255, -254]), array([ 15, -14]), array([ 18, -17]), array([ 21, -20]), array([ 258, -257]), array([ 24, -23]), array([ 261, -260]), array([ 27, -26]), array([ 30, -29]), array([ 264, -263]), array([ 36, -35]), array([ 39, -38]), array([ 240, -239]), array([ 267, -266]), array([ 42, -41]), array([ 45, -44]), array([ 243, -242]), array([ 48, -47]), array([ 270, -269]), array([ 51, -50]), array([ 246, -245]), array([ 273, -272]), array([ 54, -53]), array([ 57, -56]), array([ 60, -59]), array([ 279, -278]), array([ 63, -62]), array([ 66, -65]), array([ 69, -68]), array([ 282, -281]), array([ 72, -71]), array([ 75, -74]), array([ 78, -77]), array([ 81, -80]), array([ 285, -284]), array([ 84, -83]), array([ 87, -86]), array([ 90, -89]), array([ 288, -287]), array([ 93, -92]), array([ 96, -95]), array([ 291, -290]), array([ 99, -98]), array([ 294, -293]), array([ 102, -101]), array([ 105, -104]), array([ 297, -296]), array([ 108, -107]), array([ 111, -110]), array([ 300, -299]), array([ 114, -113]), array([ 117, -116]), array([ 120, -119]), array([ 303, -302]), array([ 123, -122]), array([ 306, -305]), array([ 126, -125]), array([ 129, -128]), array([ 132, -131]), array([ 309, -308]), array([ 135, -134]), array([ 312, -311]), array([ 138, -137]), array([ 141, -140]), array([ 315, -314]), array([ 144, -143]), array([ 147, -146]), array([ 318, -317]), array([ 150, -149]), array([ 321, -320]), array([ 153, -152]), array([ 156, -155]), array([ 324, -323]), array([ 159, -158]), array([ 162, -161]), array([ 165, -164]), array([ 168, -167]), array([ 327, -326]), array([ 171, -170]), array([ 174, -173]), array([ 330, -329]), array([ 177, -176]), array([ 333, -332]), array([ 180, -179]), array([ 336, -335]), array([ 183, -182]), array([ 186, -185]), array([ 339, -338]), array([ 189, -188]), array([ 192, -191]), array([ 195, -194]), array([ 342, -341]), array([ 198, -197]), array([ 201, -200]), array([ 345, -344]), array([ 204, -203]), array([ 207, -206]), array([ 210, -209]), array([ 348, -347]), array([ 213, -212]), array([ 351, -350]), array([ 216, -215]), array([ 354, -353]), array([ 219, -218]), array([ 357, -356]), array([ 222, -221]), array([ 225, -224]), array([ 360, -359]), array([ 228, -227]), array([ 363, -362]), array([ 231, -230]), array([ 366, -365]), array([ 234, -233]), array([ 369, -368]), array([ 372, -371]), array([ 375, -374]), array([ 378, -377]), array([ 381, -380]), array([ 384, -383]), array([ 387, -386]), array([ 390, -389]), array([ 987, -992]), array([ 984, -989]), array([ 981, -986]), array([ 978, -983]), array([ 975, -980]), array([ 972, -977]), array([ 969, -974]), array([ 966, -971]), array([ 963, -968]), array([ 960, -965]), array([ 957, -962]), array([ 954, -959]), array([ 951, -956]), array([ 948, -953]), array([ 945, -950]), array([ 942, -947]), array([ 939, -944]), array([ 936, -941]), array([ 933, -938]), array([ 930, -935]), array([ 927, -932]), array([ 924, -929]), array([ 921, -926]), array([ 918, -923]), array([ 915, -920]), array([ 912, -917]), array([ 909, -914]), array([ 906, -911]), array([ 903, -908]), array([ 900, -905]), array([ 897, -902]), array([ 894, -899]), array([ 891, -896]), array([ 888, -893]), array([ 885, -890]), array([ 882, -887]), array([ 879, -884]), array([ 876, -881]), array([ 873, -878]), array([ 870, -875]), array([ 867, -872]), array([ 864, -869]), array([ 861, -866]), array([ 858, -863]), array([ 855, -860]), array([ 852, -857]), array([ 849, -854]), array([ 846, -851]), array([ 843, -848]), array([ 840, -845]), array([ 837, -842]), array([ 834, -839]), array([ 831, -836]), array([ 828, -833]), array([ 825, -830]), array([ 822, -827]), array([ 819, -824]), array([ 816, -821]), array([ 813, -818]), array([ 810, -815]), array([ 807, -812]), array([ 804, -809]), array([ 801, -806]), array([ 798, -803]), array([ 795, -800]), array([ 792, -797]), array([ 789, -794]), array([ 786, -791]), array([ 783, -788]), array([ 780, -785]), array([ 777, -782]), array([ 774, -779]), array([ 771, -776]), array([ 768, -773]), array([ 765, -770]), array([ 762, -767]), array([ 759, -764]), array([ 756, -761]), array([ 753, -758]), array([ 750, -755]), array([ 747, -752]), array([ 744, -749]), array([ 741, -746]), array([ 738, -743]), array([ 735, -740]), array([ 732, -737]), array([ 729, -734]), array([ 726, -731]), array([ 723, -728]), array([ 720, -725]), array([ 717, -722]), array([ 714, -719]), array([ 711, -716]), array([ 708, -713]), array([ 705, -710]), array([ 702, -707]), array([ 699, -704]), array([ 696, -701]), array([ 693, -698])]\n",
      "Number of triple junctions = 4\n",
      ": [array([  -9, -249,    8]), array([ -33, -237,   32]), array([ 276, -248, -275]), array([ 990, -236, -392])]\n"
     ]
    },
    {
     "name": "stderr",
     "output_type": "stream",
     "text": [
      "/Users/mallickrishg/Dropbox/scripts/Pythoncode/bemcs/bemcs/bemcs.py:149: RuntimeWarning: divide by zero encountered in divide\n",
      "  arctan_x_minus_a = np.pi / 2 * np.sign(y / (a - x)) - np.arctan(y / (a - x))\n"
     ]
    }
   ],
   "source": [
    "index_open, index_overlap, index_triple = bemcs.label_nodes(els)\n",
    "N_c = 2 * n_els  # central node equations\n",
    "N_o = 2 * len(index_open)  # open node equations\n",
    "N_i = 4 * len(index_overlap)  # overlapping node equations\n",
    "N_t = 6 * len(index_triple)  # triple junction equations\n",
    "\n",
    "Nequations = N_c + N_o + N_i + N_t\n",
    "Nunknowns = 6 * n_els\n",
    "\n",
    "# We will stack this with\n",
    "# equations for the element centers\n",
    "# equations at open nodes (RHS = 0)\n",
    "# equations at overlapping nodes (RHS = 0)\n",
    "# equations at triple junctions (RHS = 0)\n",
    "BC_c = np.zeros((N_c, 1))  # these are the only non-zero entries\n",
    "BC_o = np.zeros((N_o, 1))\n",
    "BC_i = np.zeros((N_i, 1))\n",
    "BC_t = np.zeros((N_t, 1))\n",
    "\n",
    "# apply BCs at central nodes\n",
    "BC_c[0::2, 0] = bc_x\n",
    "BC_c[1::2, 0] = bc_y\n",
    "\n",
    "# stack all the BCs into 1 big vector\n",
    "BCvector = np.vstack((BC_c, BC_o, BC_i, BC_t))\n",
    "\n",
    "# Design matrices (in x,y coordinates) for slip and slip gradients at each 3qn\n",
    "matrix_slip, matrix_slip_gradient = bemcs.get_matrices_slip_slip_gradient(\n",
    "    els, reference=\"local\"\n",
    ")\n",
    "\n",
    "# Patch center locations\n",
    "# (need to be shifted an infinitesimal amount in unit normal direction for displacement bcs)\n",
    "epsilonr = 1e-6 * (bctype_x == \"u_global\").astype(float)\n",
    "obs_xy = np.vstack((els.x_centers, els.y_centers)).T\n",
    "x_obs = (obs_xy[:, 0] + epsilonr * els.x_normals).reshape(-1, 1)\n",
    "y_obs = (obs_xy[:, 1] + epsilonr * els.y_normals).reshape(-1, 1)\n",
    "\n",
    "# Compute shear and tensile stress kernels evaluated ONLY at the center of each element\n",
    "kernels_s = bemcs.get_displacement_stress_kernel(x_obs, y_obs, els, mu, nu, \"shear\")\n",
    "kernels_n = bemcs.get_displacement_stress_kernel(x_obs, y_obs, els, mu, nu, \"normal\")\n",
    "\n",
    "# Convert to traction kernels [Nobs x Ncoefficients]\n",
    "traction_kernels_s = bemcs.get_traction_kernels(els, kernels_s, flag=\"local\")\n",
    "traction_kernels_n = bemcs.get_traction_kernels(els, kernels_n, flag=\"local\")"
   ]
  },
  {
   "cell_type": "markdown",
   "metadata": {},
   "source": [
    "## Interseismic case"
   ]
  },
  {
   "cell_type": "code",
   "execution_count": 22,
   "metadata": {},
   "outputs": [
    {
     "name": "stdout",
     "output_type": "stream",
     "text": [
      "Linear Operator Condition Number: 33843.26647774208\n"
     ]
    }
   ],
   "source": [
    "# Linear Operators for the appropriate boundary conditions\n",
    "matrix_system_c = np.zeros((N_c, Nunknowns))\n",
    "\n",
    "matrix_system_o, matrix_system_i, matrix_system_t = bemcs.construct_smoothoperator(\n",
    "    els, index_open, index_overlap, index_triple\n",
    ")\n",
    "\n",
    "kerneleval_x, kerneleval_y = construct_kernels_centralnode(\n",
    "    fileinput,\n",
    "    els,\n",
    "    kernels_s,\n",
    "    kernels_n,\n",
    "    traction_kernels_s,\n",
    "    traction_kernels_n,\n",
    "    matrix_slip,\n",
    ")\n",
    "\n",
    "# populate matrix_system for central nodes\n",
    "matrix_system_c[0::2, :] = kerneleval_x\n",
    "matrix_system_c[1::2, :] = kerneleval_y\n",
    "\n",
    "# stack the matrices and create the full linear operator\n",
    "matrix_system = np.vstack(\n",
    "    (matrix_system_c, matrix_system_o, matrix_system_i, matrix_system_t)\n",
    ")\n",
    "# compute quadratic node coefficients (in local (s,n) coordinates)\n",
    "quadratic_coefs_locked = np.linalg.inv(matrix_system) @ BCvector\n",
    "print(\"Linear Operator Condition Number:\", np.linalg.cond(matrix_system))"
   ]
  },
  {
   "cell_type": "markdown",
   "metadata": {},
   "source": [
    "## Coseismic case"
   ]
  },
  {
   "cell_type": "code",
   "execution_count": 23,
   "metadata": {},
   "outputs": [
    {
     "name": "stdout",
     "output_type": "stream",
     "text": [
      "Linear Operator Condition Number: 30600.925532251636\n"
     ]
    }
   ],
   "source": [
    "# provide new input file for locked system with appropriate BCs\n",
    "fileinput = pd.read_csv(\"mht_geometry_gorkha_5_km.csv\")\n",
    "bc_x = fileinput[\"bc_x\"].values\n",
    "bc_y = fileinput[\"bc_y\"].values\n",
    "BC_c[0::2, 0] = bc_x\n",
    "BC_c[1::2, 0] = bc_y\n",
    "\n",
    "# stack all the BCs into 1 big vector\n",
    "BCvector = np.vstack((BC_c, BC_o, BC_i, BC_t))\n",
    "\n",
    "# Linear Operators for the appropriate boundary conditions\n",
    "matrix_system_c = np.zeros((N_c, Nunknowns))\n",
    "\n",
    "kerneleval_x, kerneleval_y = construct_kernels_centralnode(\n",
    "    fileinput,\n",
    "    els,\n",
    "    kernels_s,\n",
    "    kernels_n,\n",
    "    traction_kernels_s,\n",
    "    traction_kernels_n,\n",
    "    matrix_slip,\n",
    ")\n",
    "\n",
    "# populate matrix_system for central nodes\n",
    "matrix_system_c[0::2, :] = kerneleval_x\n",
    "matrix_system_c[1::2, :] = kerneleval_y\n",
    "\n",
    "# stack the matrices and create the full linear operator\n",
    "matrix_system = np.vstack(\n",
    "    (matrix_system_c, matrix_system_o, matrix_system_i, matrix_system_t)\n",
    ")\n",
    "# compute quadratic node coefficients (in local (s,n) coordinates)\n",
    "quadratic_coefs_coseismic = np.linalg.inv(matrix_system) @ BCvector\n",
    "print(\"Linear Operator Condition Number:\", np.linalg.cond(matrix_system))"
   ]
  },
  {
   "cell_type": "markdown",
   "metadata": {},
   "source": [
    "## Compute slip and tractions on a finer mesh (interseismic & coseismic)"
   ]
  },
  {
   "cell_type": "code",
   "execution_count": 24,
   "metadata": {},
   "outputs": [
    {
     "name": "stderr",
     "output_type": "stream",
     "text": [
      "/Users/mallickrishg/Dropbox/scripts/Pythoncode/bemcs/bemcs/bemcs.py:149: RuntimeWarning: divide by zero encountered in divide\n",
      "  arctan_x_minus_a = np.pi / 2 * np.sign(y / (a - x)) - np.arctan(y / (a - x))\n",
      "/Users/mallickrishg/Dropbox/scripts/Pythoncode/bemcs/bemcs/bemcs.py:150: RuntimeWarning: divide by zero encountered in divide\n",
      "  arctan_x_plus_a = np.pi / 2 * np.sign(y / (a + x)) - np.arctan(y / (a + x))\n"
     ]
    }
   ],
   "source": [
    "# Compute shear and tensile stress kernels\n",
    "kernels_s = bemcs.get_displacement_stress_kernel(\n",
    "    els_obs.x, els_obs.y, els, mu, nu, flag=\"shear\"\n",
    ")\n",
    "kernels_n = bemcs.get_displacement_stress_kernel(\n",
    "    els_obs.x, els_obs.y, els, mu, nu, flag=\"normal\"\n",
    ")\n",
    "# compute traction kernels\n",
    "tractionkernels_s = bemcs.get_traction_kernels(els_obs, kernels_s, flag=\"global\")\n",
    "tractionkernels_n = bemcs.get_traction_kernels(els_obs, kernels_n, flag=\"global\")"
   ]
  },
  {
   "cell_type": "code",
   "execution_count": 25,
   "metadata": {},
   "outputs": [],
   "source": [
    "# Interseismic case\n",
    "# evaluate slip and traction on finer mesh\n",
    "_, _, sx_locked, sy_locked = bemcs.get_slipvector_on_fault(\n",
    "    els, quadratic_coefs_locked, n_eval\n",
    ")\n",
    "\n",
    "# extract (s,n) components and store them in 2 separate vectors\n",
    "quadratic_coefs_s = np.zeros((3 * n_els, 1))\n",
    "quadratic_coefs_n = np.zeros((3 * n_els, 1))\n",
    "for i in range(n_els):\n",
    "    quadratic_coefs_s[3 * i : 3 * (i + 1)] = quadratic_coefs_locked[6 * i : 6 * i + 3]\n",
    "    quadratic_coefs_n[3 * i : 3 * (i + 1)] = quadratic_coefs_locked[\n",
    "        6 * i + 3 : 6 * (i + 1)\n",
    "    ]\n",
    "# Compute displacement and stresses (we will plot it later)\n",
    "_, _, sxx, syy, sxy = bemcs.coeffs_to_disp_stress(\n",
    "    kernels_s, kernels_n, quadratic_coefs_s, quadratic_coefs_n\n",
    ")\n",
    "\n",
    "# tractions\n",
    "tx_locked = (\n",
    "    tractionkernels_s[0] @ quadratic_coefs_s + tractionkernels_n[0] @ quadratic_coefs_n\n",
    ")\n",
    "ty_locked = (\n",
    "    tractionkernels_s[1] @ quadratic_coefs_s + tractionkernels_n[1] @ quadratic_coefs_n\n",
    ")\n",
    "\n",
    "# Coseismic case\n",
    "_, _, sx_coseismic, sy_coseismic = bemcs.get_slipvector_on_fault(\n",
    "    els, quadratic_coefs_coseismic, n_eval\n",
    ")\n",
    "\n",
    "# extract (s,n) components and store them in 2 separate vectors\n",
    "quadratic_coefs_s = np.zeros((3 * n_els, 1))\n",
    "quadratic_coefs_n = np.zeros((3 * n_els, 1))\n",
    "for i in range(n_els):\n",
    "    quadratic_coefs_s[3 * i : 3 * (i + 1)] = quadratic_coefs_coseismic[\n",
    "        6 * i : 6 * i + 3\n",
    "    ]\n",
    "    quadratic_coefs_n[3 * i : 3 * (i + 1)] = quadratic_coefs_coseismic[\n",
    "        6 * i + 3 : 6 * (i + 1)\n",
    "    ]\n",
    "# Compute displacement and stresses (we will plot it later)\n",
    "_, _, sxx, syy, sxy = bemcs.coeffs_to_disp_stress(\n",
    "    kernels_s, kernels_n, quadratic_coefs_s, quadratic_coefs_n\n",
    ")\n",
    "\n",
    "# compute traction kernels\n",
    "tractionkernels_s = bemcs.get_traction_kernels(els_obs, kernels_s, flag=\"global\")\n",
    "tractionkernels_n = bemcs.get_traction_kernels(els_obs, kernels_n, flag=\"global\")\n",
    "\n",
    "# tractions\n",
    "tx_coseismic = (\n",
    "    tractionkernels_s[0] @ quadratic_coefs_s + tractionkernels_n[0] @ quadratic_coefs_n\n",
    ")\n",
    "ty_coseismic = (\n",
    "    tractionkernels_s[1] @ quadratic_coefs_s + tractionkernels_n[1] @ quadratic_coefs_n\n",
    ")"
   ]
  }
 ],
 "metadata": {
  "kernelspec": {
   "display_name": "bemcs",
   "language": "python",
   "name": "python3"
  },
  "language_info": {
   "codemirror_mode": {
    "name": "ipython",
    "version": 3
   },
   "file_extension": ".py",
   "mimetype": "text/x-python",
   "name": "python",
   "nbconvert_exporter": "python",
   "pygments_lexer": "ipython3",
   "version": "3.11.4"
  }
 },
 "nbformat": 4,
 "nbformat_minor": 2
}
