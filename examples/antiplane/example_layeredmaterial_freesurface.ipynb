{
 "cells": [
  {
   "cell_type": "code",
   "execution_count": 15,
   "metadata": {},
   "outputs": [],
   "source": [
    "import numpy as np\n",
    "import matplotlib.pyplot as plt\n",
    "import bemcs"
   ]
  },
  {
   "cell_type": "code",
   "execution_count": 16,
   "metadata": {},
   "outputs": [
    {
     "data": {
      "image/png": "[encoded data removed]",
      "text/plain": [
       "<Figure size 640x480 with 1 Axes>"
      ]
     },
     "metadata": {},
     "output_type": "display_data"
    }
   ],
   "source": [
    "# Elastic parameter (shear modulus)\n",
    "mu = 1.0\n",
    "Lscale = 10\n",
    "els_source = bemcs.initialize_els()\n",
    "els_topo = bemcs.initialize_els()\n",
    "els_b = bemcs.initialize_els()\n",
    "els = bemcs.initialize_els()\n",
    "\n",
    "# setup a fault geometry (source)\n",
    "els_source.x1 = np.array([-1.0])\n",
    "els_source.y1 = np.array([-0.5])\n",
    "els_source.x2 = np.array([1.0])\n",
    "els_source.y2 = np.array([-1.5])\n",
    "bemcs.standardize_els_geometry(els_source, reorder=False)\n",
    "\n",
    "# topography\n",
    "xvals = np.linspace(-Lscale, Lscale, 10)\n",
    "els_topo.x1 = xvals[0:-1]\n",
    "els_topo.x2 = xvals[1:]\n",
    "els_topo.y1 = np.zeros_like(els_topo.x1)\n",
    "els_topo.y2 = np.zeros_like(els_topo.x1)\n",
    "bemcs.standardize_els_geometry(els_topo, reorder=False)\n",
    "\n",
    "# layered structure\n",
    "zlayer = np.array([-1.0, -2.0, -3.0])\n",
    "mulayer = np.array([1, 2, 3, 4.0])\n",
    "npts_layer = 10\n",
    "x1 = []\n",
    "x2 = []\n",
    "y1 = []\n",
    "y2 = []\n",
    "beta = np.ones(len(zlayer) * (npts_layer - 1))\n",
    "for i in range(len(zlayer)):\n",
    "    xvals = np.linspace(-Lscale, Lscale, npts_layer)\n",
    "    x1 = np.hstack([x1, xvals[0:-1]])\n",
    "    x2 = np.hstack([x2, xvals[1:]])\n",
    "    y1 = np.hstack([y1, np.ones(npts_layer - 1) * zlayer[i]])\n",
    "    y2 = np.hstack([y2, np.ones(npts_layer - 1) * zlayer[i]])\n",
    "    beta[i * (npts_layer - 1) : (npts_layer - 1) * (i + 1)] = (\n",
    "        mulayer[i + 1] - mulayer[i]\n",
    "    ) / mulayer[i]\n",
    "els_b.x1 = x1\n",
    "els_b.x2 = x2\n",
    "els_b.y1 = y1\n",
    "els_b.y2 = y2\n",
    "bemcs.standardize_els_geometry(els_b, reorder=False)\n",
    "\n",
    "# combine topo and layered structure\n",
    "els.x1 = np.hstack([els_topo.x1, els_b.x1])\n",
    "els.x2 = np.hstack([els_topo.x2, els_b.x2])\n",
    "els.y1 = np.hstack([els_topo.y1, els_b.y1])\n",
    "els.y2 = np.hstack([els_topo.y2, els_b.y2])\n",
    "\n",
    "# label topo index\n",
    "topoindex = np.hstack(\n",
    "    [np.ones(len(els_topo.x1), dtype=bool), np.zeros(len(els_b.x1), dtype=bool)]\n",
    ")\n",
    "\n",
    "bemcs.standardize_els_geometry(els, reorder=False)\n",
    "n_els = len(els.x1)\n",
    "\n",
    "bemcs.plot_els_geometry(els)"
   ]
  },
  {
   "cell_type": "code",
   "execution_count": 21,
   "metadata": {},
   "outputs": [],
   "source": [
    "xo = els.x_centers\n",
    "yo = els.y_centers\n",
    "K_sx, K_sy, _ = bemcs.get_displacement_stress_kernel_slip_antiplane(\n",
    "    xo, yo, els_source, mu\n",
    ")\n",
    "quadcoefs = np.ones(3)\n",
    "\n",
    "# compute strain due to source at els\n",
    "ex0 = K_sx @ quadcoefs\n",
    "ey0 = K_sy @ quadcoefs\n",
    "\n",
    "# compute els force kernels\n",
    "K_sx, K_sy, _ = bemcs.get_displacement_stress_kernel_force_antiplane(xo, yo, els, mu)\n",
    "# construct constant kernels from linear kernels for this simple example\n",
    "K_x = np.zeros((n_els, n_els))\n",
    "K_y = np.zeros((n_els, n_els))\n",
    "for i in range(n_els):\n",
    "    K_x[:, i] = K_sx[:, 2 * i] + K_sx[:, 2 * i + 1]\n",
    "    K_y[:, i] = K_sy[:, 2 * i] + K_sy[:, 2 * i + 1]\n",
    "\n",
    "betamat = np.repeat(beta.reshape(-1, 1), len(els_b.x1), axis=1)\n",
    "kernel = np.vstack(\n",
    "    [\n",
    "        np.hstack([K_y[topoindex][:, topoindex], K_y[topoindex][:, ~topoindex]]),\n",
    "        np.hstack(\n",
    "            [\n",
    "                -betamat @ K_y[~topoindex][:, topoindex],\n",
    "                np.eye(len(els_b.x1)) - betamat @ K_y[~topoindex][:, ~topoindex],\n",
    "            ]\n",
    "        ),\n",
    "    ]\n",
    ")\n",
    "\n",
    "# solve system to get body forces\n",
    "solvec = np.linalg.inv(kernel) @ np.vstack(\n",
    "    [-ey0[topoindex].reshape(-1, 1), (beta * ey0[~topoindex]).reshape(-1, 1)]\n",
    ")"
   ]
  }
 ],
 "metadata": {
  "kernelspec": {
   "display_name": "bemcs",
   "language": "python",
   "name": "python3"
  },
  "language_info": {
   "codemirror_mode": {
    "name": "ipython",
    "version": 3
   },
   "file_extension": ".py",
   "mimetype": "text/x-python",
   "name": "python",
   "nbconvert_exporter": "python",
   "pygments_lexer": "ipython3",
   "version": "3.11.4"
  }
 },
 "nbformat": 4,
 "nbformat_minor": 2
}
