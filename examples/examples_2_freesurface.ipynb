{
 "cells": [
  {
   "cell_type": "code",
   "execution_count": 1,
   "metadata": {},
   "outputs": [],
   "source": [
    "import sys\n",
    "import numpy as np\n",
    "import matplotlib.pyplot as plt\n",
    "sys.path.append('../') # path to bemcs\n",
    "\n",
    "import bemcs\n",
    "import bemcs.kernels_stress_displacement as kernels"
   ]
  },
  {
   "cell_type": "code",
   "execution_count": 2,
   "metadata": {},
   "outputs": [],
   "source": [
    "# create a uniform mesh of the free surface\n",
    "n_elements = 20\n",
    "L_fault = 10 # fault length in x\n",
    "xmesh = np.linspace(-L_fault/2,L_fault/2,n_elements+1)\n",
    "x1 = xmesh[0:-1]\n",
    "x2 = xmesh[1:]\n",
    "y1 = 0*x1\n",
    "y2 = 0*x2\n",
    "\n",
    "elements = []\n",
    "element = {}\n",
    "for i in range(n_elements):\n",
    "    element[\"x1\"] = x1[i]\n",
    "    element[\"y1\"] = y1[i]\n",
    "    element[\"x2\"] = x2[i]\n",
    "    element[\"y2\"] = y2[i]\n",
    "    elements.append(element.copy())\n",
    "elements = bemcs.standardize_elements(elements)\n"
   ]
  },
  {
   "cell_type": "code",
   "execution_count": 6,
   "metadata": {},
   "outputs": [
    {
     "name": "stdout",
     "output_type": "stream",
     "text": [
      "IN BEMCS - physical_displacements=array([1., 1., 1.])\n",
      "IN BEMCS - quadratic_coefficients=array([1., 1., 1.])\n"
     ]
    },
    {
     "data": {
      "image/png": "[encoded data removed]",
      "text/plain": [
       "<Figure size 1500x1000 with 1 Axes>"
      ]
     },
     "metadata": {},
     "output_type": "display_data"
    }
   ],
   "source": [
    "# create a source (use constant slip)\n",
    "element = {}\n",
    "source = []\n",
    "element[\"x1\"] = 0\n",
    "element[\"x2\"] = 0.5\n",
    "element[\"y1\"] = -0.5\n",
    "element[\"y2\"] = -0.7\n",
    "source.append(element.copy())\n",
    "source = bemcs.standardize_elements(source)\n",
    "\n",
    "quadratic_source = bemcs.get_quadratic_coefficients_for_linear_slip(source[0][\"half_length\"], \n",
    "    np.array((-source[0][\"half_length\"],0,source[0][\"half_length\"])), 1., 1.)\n",
    "\n",
    "plt.figure(figsize=(15,10))\n",
    "bemcs.plot_element_geometry(elements)\n",
    "bemcs.plot_element_geometry(source)\n",
    "plt.show()"
   ]
  },
  {
   "cell_type": "code",
   "execution_count": 35,
   "metadata": {},
   "outputs": [],
   "source": [
    "def compute_tractionkernels(elements,kernels):    \n",
    "    Kxx = kernels[0]\n",
    "    Kyy = kernels[1]\n",
    "    Kxy = kernels[2]\n",
    "    nrows = np.shape(Kxx)[0]\n",
    "    ncols = np.shape(Kxx)[1]\n",
    "\n",
    "    tx = np.zeros_like(Kxx)\n",
    "    ty = np.zeros_like(Kxx)\n",
    "    # unit vector in normal direction\n",
    "    nvec = np.zeros((nrows,2))\n",
    "\n",
    "    for i in range(nrows):\n",
    "        nvec[i,:] = np.array((elements[i][\"x_normal\"],elements[i][\"y_normal\"]))\n",
    "    nx_matrix = np.zeros_like(Kxx)\n",
    "    ny_matrix = np.zeros_like(Kxx)\n",
    "\n",
    "    nx_matrix[:,0::3] = nvec[:,0]\n",
    "    nx_matrix[:,1::3] = nvec[:,0]\n",
    "    nx_matrix[:,2::3] = nvec[:,0]\n",
    "    ny_matrix[:,0::3] = nvec[:,1]\n",
    "    ny_matrix[:,1::3] = nvec[:,1]\n",
    "    ny_matrix[:,2::3] = nvec[:,1]\n",
    "\n",
    "    # traction vector t = n.σ\n",
    "    tx = Kxx*nx_matrix + Kxy*ny_matrix\n",
    "    ty = Kxy*nx_matrix + Kyy*ny_matrix\n",
    "\n",
    "    return tx,ty\n",
    "\n",
    "# compute displacement and stress kernels\n",
    "# Elastic parameters\n",
    "mu = 1\n",
    "nu = 0.25\n",
    "# unit vector in normal direction\n",
    "nvec = np.zeros((n_elements,2))\n",
    "for i in range(n_elements):\n",
    "    nvec[i,:] = np.array((elements[i][\"x_normal\"],elements[i][\"y_normal\"]))\n",
    "x_obs = np.zeros((n_elements,1)) \n",
    "y_obs = np.zeros((n_elements,1)) \n",
    "for i in range(n_elements):\n",
    "    x_obs[i,0] = 0.5*(elements[i][\"x1\"]+elements[i][\"x2\"]) - nvec[i,0]*1e-16\n",
    "    y_obs[i,0] = 0.5*(elements[i][\"y1\"]+elements[i][\"y2\"]) - nvec[i,1]*1e-16\n",
    "\n",
    "# compute shear and tensile stress kernels\n",
    "# kernels are [Kxx,Kyy,Kxy,Gx,Gy] x [Nobs x Ncoefficients]\n",
    "# the last argument passed is a flag for shear/tensile source (1 - shear, 0 - tensile)\n",
    "kernels_s = kernels.get_quadratic_displacement_stress_kernel(x_obs,y_obs,elements,mu,nu,1)\n",
    "kernels_n = kernels.get_quadratic_displacement_stress_kernel(x_obs,y_obs,elements,mu,nu,0)\n",
    "\n",
    "# convert to traction kernels (tx = Kxx*nx + Kxy*ny,ty = Kxy*nx + Kyy*ny)\n",
    "tractionkernels_s = compute_tractionkernels(elements,kernels_s)\n",
    "tractionkernels_n = compute_tractionkernels(elements,kernels_n)\n"
   ]
  },
  {
   "cell_type": "code",
   "execution_count": null,
   "metadata": {},
   "outputs": [],
   "source": []
  }
 ],
 "metadata": {
  "kernelspec": {
   "display_name": "enceladus",
   "language": "python",
   "name": "python3"
  },
  "language_info": {
   "codemirror_mode": {
    "name": "ipython",
    "version": 3
   },
   "file_extension": ".py",
   "mimetype": "text/x-python",
   "name": "python",
   "nbconvert_exporter": "python",
   "pygments_lexer": "ipython3",
   "version": "3.10.9"
  },
  "orig_nbformat": 4
 },
 "nbformat": 4,
 "nbformat_minor": 2
}
